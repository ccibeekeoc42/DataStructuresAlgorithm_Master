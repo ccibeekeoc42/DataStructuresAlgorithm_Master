{
  "cells": [
    {
      "cell_type": "markdown",
      "metadata": {
        "id": "j-DOg93LghOY"
      },
      "source": [
        "## [Factorial Trailing Zeros](https://leetcode.com/problems/factorial-trailing-zeroes/)"
      ]
    },
    {
      "cell_type": "code",
      "execution_count": 2,
      "metadata": {
        "colab": {
          "base_uri": "https://localhost:8080/"
        },
        "id": "k2_oH1gQgak8",
        "outputId": "7c980c22-c5cc-41e9-f063-83b0a2c81626"
      },
      "outputs": [
        {
          "name": "stdout",
          "output_type": "stream",
          "text": [
            "Test case 1 Passed!\n",
            "Test case 2 Passed!\n"
          ]
        }
      ],
      "source": [
        "def trailingZeros(n):\n",
        "  return 0 if n == 0 else n//5 + trailingZeros(n//5)\n",
        "\n",
        "# Test Cases\n",
        "def test_trailingZeros():\n",
        "  # Test case 1\n",
        "  n, expected_result = 10, 2\n",
        "  result = trailingZeros(n)\n",
        "  try: \n",
        "    assert result == expected_result, f'Test case 1 Failed! Expected {expected_result}, but got {result}'\n",
        "    print(f'Test case 1 Passed!')\n",
        "  except AssertionError as e:\n",
        "    print(e)\n",
        "\n",
        "  # Test case 2\n",
        "  n, expected_result = 11, 2\n",
        "  result = trailingZeros(n)\n",
        "  try: \n",
        "    assert result == expected_result\n",
        "    print(f'Test case 2 Passed!')\n",
        "  except AssertionError:\n",
        "    print(f'Test case 2 Failed! Expected {expected_result}, but got {result}')\n",
        "\n",
        "test_trailingZeros()"
      ]
    },
    {
      "cell_type": "markdown",
      "metadata": {
        "id": "ZwCIFgyclOlc"
      },
      "source": [
        "## [Fibonacci](https://leetcode.com/problems/fibonacci-number/)"
      ]
    },
    {
      "cell_type": "code",
      "execution_count": 4,
      "metadata": {
        "colab": {
          "base_uri": "https://localhost:8080/"
        },
        "id": "u9-liH2Tjfku",
        "outputId": "a0fe7486-cb1d-45d2-a176-6bc3ecffc6cf"
      },
      "outputs": [
        {
          "name": "stdout",
          "output_type": "stream",
          "text": [
            "Test case 1 Passed!\n",
            "Test case 2 Passed!\n"
          ]
        }
      ],
      "source": [
        "def fib(n):\n",
        "  if n < 2: return n\n",
        "  one, two = 0, 1\n",
        "  for i in range (2, n+1):\n",
        "    one, two = two, one + two\n",
        "  return two\n",
        "\n",
        "# Test Cases\n",
        "def test_fib():\n",
        "  # Test case 1\n",
        "  n, expected_result = 0, 0\n",
        "  result = fib(n)\n",
        "  try: \n",
        "    assert result == expected_result\n",
        "    print(f'Test case 1 Passed!')\n",
        "  except AssertionError:\n",
        "    print(f'Test case 1 Failed! Expected {expected_result}, but got {result}')\n",
        "\n",
        "  # Test case 2\n",
        "  n, expected_result = 7, 13\n",
        "  result = fib(n)\n",
        "  try: \n",
        "    assert result == expected_result\n",
        "    print(f'Test case 2 Passed!')\n",
        "  except AssertionError:\n",
        "    print(f'Test case 2 Failed! Expected {expected_result}, but got {result}')\n",
        "\n",
        "test_fib()"
      ]
    },
    {
      "cell_type": "markdown",
      "metadata": {
        "id": "yVRESXSDsU4O"
      },
      "source": [
        "## [Climbing Stairs](https://leetcode.com/problems/climbing-stairs/)"
      ]
    },
    {
      "cell_type": "code",
      "execution_count": 5,
      "metadata": {
        "colab": {
          "base_uri": "https://localhost:8080/"
        },
        "id": "tNLFlgqasczE",
        "outputId": "29bea84a-094e-4f5f-efa5-50d71ad68c16"
      },
      "outputs": [
        {
          "name": "stdout",
          "output_type": "stream",
          "text": [
            "Test case 1 Passed!\n",
            "Test case 2 Passed!\n"
          ]
        }
      ],
      "source": [
        "def climbingStairs(n):\n",
        "  one, two = 1, 1\n",
        "  for i in range (2, n+1):\n",
        "    one, two = two, one + two\n",
        "  return two\n",
        "\n",
        "# Test Cases\n",
        "def test_climbingStairs():\n",
        "  # Test case 1\n",
        "  n, expected_result = 0, 1\n",
        "  result = climbingStairs(n)\n",
        "  try: \n",
        "    assert result == expected_result\n",
        "    print(f'Test case 1 Passed!')\n",
        "  except AssertionError:\n",
        "    print(f'Test case 1 Failed! Expected {expected_result}, but got {result}')\n",
        "\n",
        "  # Test case 2\n",
        "  n, expected_result = 6, 13\n",
        "  result = climbingStairs(n)\n",
        "  try: \n",
        "    assert result == expected_result\n",
        "    print(f'Test case 2 Passed!')\n",
        "  except AssertionError:\n",
        "    print(f'Test case 2 Failed! Expected {expected_result}, but got {result}')\n",
        "\n",
        "test_climbingStairs()"
      ]
    },
    {
      "cell_type": "markdown",
      "metadata": {
        "id": "CEVofI5rvjC6"
      },
      "source": [
        "## [Tribonacci](https://leetcode.com/problems/n-th-tribonacci-number/)"
      ]
    },
    {
      "cell_type": "code",
      "execution_count": 24,
      "metadata": {
        "colab": {
          "base_uri": "https://localhost:8080/"
        },
        "id": "0Lqn9OKZvrE1",
        "outputId": "1076d04f-8793-4389-b205-218518057d84"
      },
      "outputs": [
        {
          "name": "stdout",
          "output_type": "stream",
          "text": [
            "Test case 1 Passed!\n",
            "Test case 2 Passed!\n"
          ]
        }
      ],
      "source": [
        "def trib(n):\n",
        "  if n < 2: return 0\n",
        "  one, two, three = 0, 1, 1\n",
        "  for i in range (3, n+1):\n",
        "    one, two, three = two, three, (one + two + three)\n",
        "  return three\n",
        "\n",
        "# Test Cases\n",
        "def test_trib():\n",
        "  # Test case 1\n",
        "  n, expected_result = 0, 0\n",
        "  result = trib(n)\n",
        "  try: \n",
        "    assert result == expected_result\n",
        "    print(f'Test case 1 Passed!')\n",
        "  except AssertionError:\n",
        "    print(f'Test case 1 Failed! Expected {expected_result}, but got {result}')\n",
        "\n",
        "  # Test case 2\n",
        "  n, expected_result = 6, 13\n",
        "  result = trib(n)\n",
        "  try: \n",
        "    assert result == expected_result\n",
        "    print(f'Test case 2 Passed!')\n",
        "  except AssertionError:\n",
        "    print(f'Test case 2 Failed! Expected {expected_result}, but got {result}')\n",
        "\n",
        "test_trib()"
      ]
    },
    {
      "attachments": {},
      "cell_type": "markdown",
      "metadata": {},
      "source": [
        "## [Non Adjcent Sum](https://)"
      ]
    },
    {
      "cell_type": "code",
      "execution_count": 9,
      "metadata": {},
      "outputs": [
        {
          "name": "stdout",
          "output_type": "stream",
          "text": [
            "Test case 1 Passed!\n",
            "Test case 2 Passed!\n"
          ]
        }
      ],
      "source": [
        "def nonAdjacentSum(nums):\n",
        "  r1, r2 = 0, 0\n",
        "  for num in nums:\n",
        "      r1, r2 = r2, max(r1+num, r2)\n",
        "  return r2\n",
        "\n",
        "# Test Cases\n",
        "def test_nonAdjacentSum():\n",
        "  # Test case 1\n",
        "  nums, expected_result = [2, 4, 6, 2, 5], 13\n",
        "  result = nonAdjacentSum(nums)\n",
        "  try: \n",
        "    assert result == expected_result\n",
        "    print(f'Test case 1 Passed!')\n",
        "  except AssertionError:\n",
        "    print(f'Test case 1 Failed! Expected {expected_result}, but got {result}')\n",
        "\n",
        "  # Test case 2\n",
        "  nums, expected_result = [5, 1, 1, 5], 10\n",
        "  result = nonAdjacentSum(nums)\n",
        "  try: \n",
        "    assert result == expected_result\n",
        "    print(f'Test case 2 Passed!')\n",
        "  except AssertionError:\n",
        "    print(f'Test case 2 Failed! Expected {expected_result}, but got {result}')\n",
        "\n",
        "test_nonAdjacentSum()\n"
      ]
    }
  ],
  "metadata": {
    "colab": {
      "collapsed_sections": [
        "j-DOg93LghOY",
        "ZwCIFgyclOlc",
        "yVRESXSDsU4O"
      ],
      "provenance": []
    },
    "kernelspec": {
      "display_name": "Python 3",
      "language": "python",
      "name": "python3"
    },
    "language_info": {
      "codemirror_mode": {
        "name": "ipython",
        "version": 3
      },
      "file_extension": ".py",
      "mimetype": "text/x-python",
      "name": "python",
      "nbconvert_exporter": "python",
      "pygments_lexer": "ipython3",
      "version": "3.9.2"
    },
    "vscode": {
      "interpreter": {
        "hash": "aee8b7b246df8f9039afb4144a1f6fd8d2ca17a180786b69acc140d282b71a49"
      }
    }
  },
  "nbformat": 4,
  "nbformat_minor": 0
}
